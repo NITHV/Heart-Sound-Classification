{
  "nbformat": 4,
  "nbformat_minor": 0,
  "metadata": {
    "colab": {
      "name": "MINI PROJECT _Feature Extraction.ipynb",
      "provenance": [],
      "collapsed_sections": [
        "EumoVxDXN-OT",
        "JOnHUXrybQjC",
        "DpTlmOGV88yS",
        "9ZLXFjs6m6Z0",
        "Mmu8Ei3pv5Tm"
      ]
    },
    "kernelspec": {
      "name": "python3",
      "display_name": "Python 3"
    },
    "language_info": {
      "name": "python"
    }
  },
  "cells": [
    {
      "cell_type": "markdown",
      "metadata": {
        "id": "EumoVxDXN-OT"
      },
      "source": [
        "#**Importing all libraries**"
      ]
    },
    {
      "cell_type": "code",
      "metadata": {
        "colab": {
          "base_uri": "https://localhost:8080/"
        },
        "id": "9-E8012rNgF7",
        "outputId": "18d79e57-ba34-4e2b-b34a-a5a38f319cd9"
      },
      "source": [
        "!pip install neurokit2"
      ],
      "execution_count": null,
      "outputs": [
        {
          "output_type": "stream",
          "name": "stdout",
          "text": [
            "Collecting neurokit2\n",
            "  Downloading neurokit2-0.1.4.1-py2.py3-none-any.whl (1.0 MB)\n",
            "\u001b[K     |████████████████████████████████| 1.0 MB 2.8 MB/s \n",
            "\u001b[?25hRequirement already satisfied: pandas in /usr/local/lib/python3.7/dist-packages (from neurokit2) (1.1.5)\n",
            "Requirement already satisfied: scikit-learn in /usr/local/lib/python3.7/dist-packages (from neurokit2) (0.22.2.post1)\n",
            "Requirement already satisfied: matplotlib in /usr/local/lib/python3.7/dist-packages (from neurokit2) (3.2.2)\n",
            "Requirement already satisfied: scipy in /usr/local/lib/python3.7/dist-packages (from neurokit2) (1.4.1)\n",
            "Requirement already satisfied: numpy in /usr/local/lib/python3.7/dist-packages (from neurokit2) (1.19.5)\n",
            "Requirement already satisfied: python-dateutil>=2.1 in /usr/local/lib/python3.7/dist-packages (from matplotlib->neurokit2) (2.8.2)\n",
            "Requirement already satisfied: cycler>=0.10 in /usr/local/lib/python3.7/dist-packages (from matplotlib->neurokit2) (0.10.0)\n",
            "Requirement already satisfied: kiwisolver>=1.0.1 in /usr/local/lib/python3.7/dist-packages (from matplotlib->neurokit2) (1.3.2)\n",
            "Requirement already satisfied: pyparsing!=2.0.4,!=2.1.2,!=2.1.6,>=2.0.1 in /usr/local/lib/python3.7/dist-packages (from matplotlib->neurokit2) (2.4.7)\n",
            "Requirement already satisfied: six in /usr/local/lib/python3.7/dist-packages (from cycler>=0.10->matplotlib->neurokit2) (1.15.0)\n",
            "Requirement already satisfied: pytz>=2017.2 in /usr/local/lib/python3.7/dist-packages (from pandas->neurokit2) (2018.9)\n",
            "Requirement already satisfied: joblib>=0.11 in /usr/local/lib/python3.7/dist-packages (from scikit-learn->neurokit2) (1.0.1)\n",
            "Installing collected packages: neurokit2\n",
            "Successfully installed neurokit2-0.1.4.1\n"
          ]
        }
      ]
    },
    {
      "cell_type": "code",
      "metadata": {
        "colab": {
          "base_uri": "https://localhost:8080/"
        },
        "id": "SqccUzYfOpgV",
        "outputId": "b218f528-c96c-40ec-f5e9-9adc76166c25"
      },
      "source": [
        "!pip install peakutils"
      ],
      "execution_count": null,
      "outputs": [
        {
          "output_type": "stream",
          "name": "stdout",
          "text": [
            "Collecting peakutils\n",
            "  Downloading PeakUtils-1.3.3-py3-none-any.whl (7.7 kB)\n",
            "Requirement already satisfied: numpy in /usr/local/lib/python3.7/dist-packages (from peakutils) (1.19.5)\n",
            "Requirement already satisfied: scipy in /usr/local/lib/python3.7/dist-packages (from peakutils) (1.4.1)\n",
            "Installing collected packages: peakutils\n",
            "Successfully installed peakutils-1.3.3\n"
          ]
        }
      ]
    },
    {
      "cell_type": "code",
      "metadata": {
        "id": "KwSEWfApigui"
      },
      "source": [
        "import librosa"
      ],
      "execution_count": null,
      "outputs": []
    },
    {
      "cell_type": "code",
      "metadata": {
        "colab": {
          "base_uri": "https://localhost:8080/"
        },
        "id": "0MLsSUD2igNq",
        "outputId": "b8a67cbf-f801-4c90-dd81-8cfe0b8b6df3"
      },
      "source": [
        "!pip install librosa"
      ],
      "execution_count": null,
      "outputs": [
        {
          "output_type": "stream",
          "name": "stdout",
          "text": [
            "Requirement already satisfied: librosa in /usr/local/lib/python3.7/dist-packages (0.8.1)\n",
            "Requirement already satisfied: audioread>=2.0.0 in /usr/local/lib/python3.7/dist-packages (from librosa) (2.1.9)\n",
            "Requirement already satisfied: decorator>=3.0.0 in /usr/local/lib/python3.7/dist-packages (from librosa) (4.4.2)\n",
            "Requirement already satisfied: soundfile>=0.10.2 in /usr/local/lib/python3.7/dist-packages (from librosa) (0.10.3.post1)\n",
            "Requirement already satisfied: scipy>=1.0.0 in /usr/local/lib/python3.7/dist-packages (from librosa) (1.4.1)\n",
            "Requirement already satisfied: pooch>=1.0 in /usr/local/lib/python3.7/dist-packages (from librosa) (1.5.1)\n",
            "Requirement already satisfied: joblib>=0.14 in /usr/local/lib/python3.7/dist-packages (from librosa) (1.0.1)\n",
            "Requirement already satisfied: numpy>=1.15.0 in /usr/local/lib/python3.7/dist-packages (from librosa) (1.19.5)\n",
            "Requirement already satisfied: numba>=0.43.0 in /usr/local/lib/python3.7/dist-packages (from librosa) (0.51.2)\n",
            "Requirement already satisfied: scikit-learn!=0.19.0,>=0.14.0 in /usr/local/lib/python3.7/dist-packages (from librosa) (0.22.2.post1)\n",
            "Requirement already satisfied: resampy>=0.2.2 in /usr/local/lib/python3.7/dist-packages (from librosa) (0.2.2)\n",
            "Requirement already satisfied: packaging>=20.0 in /usr/local/lib/python3.7/dist-packages (from librosa) (21.0)\n",
            "Requirement already satisfied: setuptools in /usr/local/lib/python3.7/dist-packages (from numba>=0.43.0->librosa) (57.4.0)\n",
            "Requirement already satisfied: llvmlite<0.35,>=0.34.0.dev0 in /usr/local/lib/python3.7/dist-packages (from numba>=0.43.0->librosa) (0.34.0)\n",
            "Requirement already satisfied: pyparsing>=2.0.2 in /usr/local/lib/python3.7/dist-packages (from packaging>=20.0->librosa) (2.4.7)\n",
            "Requirement already satisfied: requests in /usr/local/lib/python3.7/dist-packages (from pooch>=1.0->librosa) (2.23.0)\n",
            "Requirement already satisfied: appdirs in /usr/local/lib/python3.7/dist-packages (from pooch>=1.0->librosa) (1.4.4)\n",
            "Requirement already satisfied: six>=1.3 in /usr/local/lib/python3.7/dist-packages (from resampy>=0.2.2->librosa) (1.15.0)\n",
            "Requirement already satisfied: cffi>=1.0 in /usr/local/lib/python3.7/dist-packages (from soundfile>=0.10.2->librosa) (1.14.6)\n",
            "Requirement already satisfied: pycparser in /usr/local/lib/python3.7/dist-packages (from cffi>=1.0->soundfile>=0.10.2->librosa) (2.20)\n",
            "Requirement already satisfied: urllib3!=1.25.0,!=1.25.1,<1.26,>=1.21.1 in /usr/local/lib/python3.7/dist-packages (from requests->pooch>=1.0->librosa) (1.24.3)\n",
            "Requirement already satisfied: chardet<4,>=3.0.2 in /usr/local/lib/python3.7/dist-packages (from requests->pooch>=1.0->librosa) (3.0.4)\n",
            "Requirement already satisfied: certifi>=2017.4.17 in /usr/local/lib/python3.7/dist-packages (from requests->pooch>=1.0->librosa) (2021.5.30)\n",
            "Requirement already satisfied: idna<3,>=2.5 in /usr/local/lib/python3.7/dist-packages (from requests->pooch>=1.0->librosa) (2.10)\n"
          ]
        }
      ]
    },
    {
      "cell_type": "code",
      "metadata": {
        "colab": {
          "base_uri": "https://localhost:8080/"
        },
        "id": "yRKIjpOsQf-B",
        "outputId": "62b40e78-c8b8-4ebe-c43e-4c9daba149db"
      },
      "source": [
        "!pip install biosppy\n",
        "from biosppy.signals import ecg"
      ],
      "execution_count": null,
      "outputs": [
        {
          "output_type": "stream",
          "name": "stdout",
          "text": [
            "Collecting biosppy\n",
            "  Downloading biosppy-0.7.3.tar.gz (85 kB)\n",
            "\u001b[?25l\r\u001b[K     |███▉                            | 10 kB 27.3 MB/s eta 0:00:01\r\u001b[K     |███████▊                        | 20 kB 6.5 MB/s eta 0:00:01\r\u001b[K     |███████████▌                    | 30 kB 4.9 MB/s eta 0:00:01\r\u001b[K     |███████████████▍                | 40 kB 2.3 MB/s eta 0:00:01\r\u001b[K     |███████████████████▏            | 51 kB 2.7 MB/s eta 0:00:01\r\u001b[K     |███████████████████████         | 61 kB 2.9 MB/s eta 0:00:01\r\u001b[K     |███████████████████████████     | 71 kB 3.1 MB/s eta 0:00:01\r\u001b[K     |██████████████████████████████▊ | 81 kB 3.3 MB/s eta 0:00:01\r\u001b[K     |████████████████████████████████| 85 kB 1.8 MB/s \n",
            "\u001b[?25hCollecting bidict\n",
            "  Downloading bidict-0.21.3-py3-none-any.whl (36 kB)\n",
            "Requirement already satisfied: h5py in /usr/local/lib/python3.7/dist-packages (from biosppy) (3.1.0)\n",
            "Requirement already satisfied: matplotlib in /usr/local/lib/python3.7/dist-packages (from biosppy) (3.2.2)\n",
            "Requirement already satisfied: numpy in /usr/local/lib/python3.7/dist-packages (from biosppy) (1.19.5)\n",
            "Requirement already satisfied: scikit-learn in /usr/local/lib/python3.7/dist-packages (from biosppy) (0.22.2.post1)\n",
            "Requirement already satisfied: scipy in /usr/local/lib/python3.7/dist-packages (from biosppy) (1.4.1)\n",
            "Collecting shortuuid\n",
            "  Downloading shortuuid-1.0.1-py3-none-any.whl (7.5 kB)\n",
            "Requirement already satisfied: six in /usr/local/lib/python3.7/dist-packages (from biosppy) (1.15.0)\n",
            "Requirement already satisfied: joblib in /usr/local/lib/python3.7/dist-packages (from biosppy) (1.0.1)\n",
            "Requirement already satisfied: opencv-python in /usr/local/lib/python3.7/dist-packages (from biosppy) (4.1.2.30)\n",
            "Requirement already satisfied: cached-property in /usr/local/lib/python3.7/dist-packages (from h5py->biosppy) (1.5.2)\n",
            "Requirement already satisfied: python-dateutil>=2.1 in /usr/local/lib/python3.7/dist-packages (from matplotlib->biosppy) (2.8.2)\n",
            "Requirement already satisfied: pyparsing!=2.0.4,!=2.1.2,!=2.1.6,>=2.0.1 in /usr/local/lib/python3.7/dist-packages (from matplotlib->biosppy) (2.4.7)\n",
            "Requirement already satisfied: cycler>=0.10 in /usr/local/lib/python3.7/dist-packages (from matplotlib->biosppy) (0.10.0)\n",
            "Requirement already satisfied: kiwisolver>=1.0.1 in /usr/local/lib/python3.7/dist-packages (from matplotlib->biosppy) (1.3.2)\n",
            "Building wheels for collected packages: biosppy\n",
            "  Building wheel for biosppy (setup.py) ... \u001b[?25l\u001b[?25hdone\n",
            "  Created wheel for biosppy: filename=biosppy-0.7.3-py2.py3-none-any.whl size=95430 sha256=c7b0f0a449571e949381a106f52d4410358c12267535a0dd113b1d0db54e47ca\n",
            "  Stored in directory: /root/.cache/pip/wheels/2f/4f/8f/28b2adc462d7e37245507324f4817ce1c64ef2464f099f4f0b\n",
            "Successfully built biosppy\n",
            "Installing collected packages: shortuuid, bidict, biosppy\n",
            "Successfully installed bidict-0.21.3 biosppy-0.7.3 shortuuid-1.0.1\n"
          ]
        }
      ]
    },
    {
      "cell_type": "code",
      "metadata": {
        "id": "guC4Df9XOPNV"
      },
      "source": [
        "import matplotlib.pyplot as plt\n",
        "import numpy as np\n",
        "import wave\n",
        "import pandas as pd \n",
        "import scipy\n",
        "import math\n",
        "from pandas import ExcelWriter\n",
        "from pandas import ExcelFile\n",
        "import neurokit2 as nk\n",
        "import signal as si\n",
        "from scipy import signal, special"
      ],
      "execution_count": null,
      "outputs": []
    },
    {
      "cell_type": "code",
      "metadata": {
        "id": "f_kfss4FOthh"
      },
      "source": [
        "import scipy.io as sio \n",
        "from scipy.io import wavfile                \n",
        "import peakutils                                # Librery to help in peak detection\n",
        "from scipy.signal import hilbert, chirp,welch"
      ],
      "execution_count": null,
      "outputs": []
    },
    {
      "cell_type": "code",
      "metadata": {
        "id": "NMjezfJ1QqLI"
      },
      "source": [
        "import librosa as lr\n",
        "from librosa import display\n",
        "import wave # library handles the parsing of WAV file headers\n",
        "import pywt\n",
        "import IPython.display as ipd #audio playback\n",
        "## plot\n",
        "import seaborn as sns\n",
        "## others\n",
        "from glob import glob\n",
        "import itertools\n",
        "import os\n",
        "from IPython.display import Image\n",
        "from skimage.transform import resize\n",
        "import statistics as s"
      ],
      "execution_count": null,
      "outputs": []
    },
    {
      "cell_type": "code",
      "metadata": {
        "id": "K7tCukFoxs1E"
      },
      "source": [
        "from scipy.stats import kurtosis, skew\n",
        "from scipy.fft import fft"
      ],
      "execution_count": null,
      "outputs": []
    },
    {
      "cell_type": "code",
      "metadata": {
        "id": "6udORbtcyh8Y"
      },
      "source": [
        "from scipy.stats import entropy"
      ],
      "execution_count": null,
      "outputs": []
    },
    {
      "cell_type": "markdown",
      "metadata": {
        "id": "h_dtVtCTyk7g"
      },
      "source": [
        "# **PRE-PROCESSING OF THE DATA:**\n",
        "\n"
      ]
    },
    {
      "cell_type": "markdown",
      "metadata": {
        "id": "3wyevziey2hZ"
      },
      "source": [
        "##Spike removal Algorithm:"
      ]
    },
    {
      "cell_type": "code",
      "metadata": {
        "id": "rQZpsA51y7_n"
      },
      "source": [
        "#Spike removal code\n",
        "def spike_removal(X,f_rate):\n",
        " array=[[]]\n",
        " sampleframes=[]\n",
        " fs = f_rate\n",
        " a=1\n",
        " b=1\n",
        " window_size = round(fs/2)\n",
        " trailingsamples = len(pure)% window_size\n",
        " for r in range(1,round((len(pure)-trailingsamples)/window_size)+1):\n",
        "  b=b+window_size\n",
        "  sampleframes = np.reshape(pure[a:b],window_size,order = 'F')\n",
        "  array.append(sampleframes)\n",
        "  a=b\n",
        " MAAs = []\n",
        " for r in range(1,round((len(pure)-trailingsamples)/window_size)+1):\n",
        "  b = array[r][:]\n",
        "  c = np.max(b)\n",
        "  MAAs.append(c)\n",
        " med = s.median(MAAs)\n",
        " n=1\n",
        " k=1\n",
        " while (n==1):\n",
        "  MAAs = []\n",
        "  for r in range(1,round((len(pure)-trailingsamples)/window_size)+1):\n",
        "    b = array[r][:]\n",
        "    c = np.max(b)\n",
        "    MAAs.append(c)\n",
        "  med = s.median(MAAs) \n",
        "  a=0\n",
        "  for i in range(len(MAAs)):\n",
        "   if(MAAs[i]>(3*med)):\n",
        "      a=a+1    \n",
        "  if(a==0):  \n",
        "   n=0 \n",
        "  else:\n",
        "   m = max(MAAs)\n",
        "   for i in range(len(MAAs)):\n",
        "     if(MAAs[i]==m):\n",
        "       m_index =i \n",
        "   window = array[(m_index+1)][:]\n",
        "   p = window\n",
        "\n",
        "   \n",
        "   for i in range(len((p))):\n",
        "     if(p[i]==m):\n",
        "       a_index =i   \n",
        "   #to find min index\n",
        "   n=1\n",
        "   i=1\n",
        "   while(n==1):\n",
        "     mi = a_index-i\n",
        "     if(p[mi]<0):\n",
        "       min_ind = mi\n",
        "       n=0\n",
        "     else:\n",
        "       i = i+1\n",
        "   #to find max index:\n",
        "   n=1\n",
        "   i=1\n",
        "   while(n==1):\n",
        "    if((a_index+i)< window_size):\n",
        "     mi = a_index+i\n",
        "     if(p[mi]<0):\n",
        "       max_ind = mi\n",
        "       n=0\n",
        "     else:\n",
        "       i = i+1\n",
        "  \n",
        "   p[min_ind:max_ind] = 0\n",
        "   array[(m_index+1)][:] = p\n",
        "   n=1\n",
        "   k = k+1\n",
        "   if (k==50):\n",
        "       n=0\n",
        "\n",
        "## getting back despiked signal\n",
        " p = np.concatenate(array,axis=0)\n",
        " c = []\n",
        " for i in range(len(p)):\n",
        "  c.append(p[i])\n",
        " for i in range((len(pure)-trailingsamples),(len(pure))):\n",
        "  c.append(pure[i])\n",
        " return c"
      ],
      "execution_count": null,
      "outputs": []
    },
    {
      "cell_type": "markdown",
      "metadata": {
        "id": "TwCWau-OR-7u"
      },
      "source": [
        "#**HEART RATE - Springer algorithm**"
      ]
    },
    {
      "cell_type": "code",
      "metadata": {
        "id": "CoIXiA0_RtJ_"
      },
      "source": [
        "# Import Module\n",
        "import os\n",
        "  \n",
        "# Folder Path\n",
        "path = \"/content/drive/MyDrive/training-a/\"\n",
        "  \n",
        "# Change the directory\n",
        "os.chdir(path)\n",
        "  \n",
        "# Read text File\n",
        "  \n",
        "  \n",
        "def read_wav_file(file_path):\n",
        "    Data = wave.open(file_path)\n",
        "    return Data  "
      ],
      "execution_count": null,
      "outputs": []
    },
    {
      "cell_type": "code",
      "metadata": {
        "id": "bupp336fRtIV"
      },
      "source": [
        "#Reading the content of hea file\n",
        "def read_hea_file(file_path):\n",
        "  a = open(file_path)\n",
        "  for index, line in enumerate(a):\n",
        "    if(index==3):\n",
        "      c = line\n",
        "  return str(line[2:])"
      ],
      "execution_count": null,
      "outputs": []
    },
    {
      "cell_type": "code",
      "metadata": {
        "id": "u-7uaFtWTi8l"
      },
      "source": [
        "def get_index(n,p):\n",
        "  for i in range(len(n)):\n",
        "   if(n[i]==p):\n",
        "    index = i\n",
        "  return index"
      ],
      "execution_count": null,
      "outputs": []
    },
    {
      "cell_type": "code",
      "metadata": {
        "id": "xkgj4EP4RtGy"
      },
      "source": [
        "import math\n",
        "## to find Heartrate and sys_time interval\n",
        "def get_hsysrate(pure,f_rate):\n",
        "  b,a = signal.butter(1,(2*8/f_rate),'low')\n",
        "  am = (abs(scipy.signal.hilbert(pure)))\n",
        "  c=[]\n",
        "  for i in range(len(am)):\n",
        "    ca = math.log(am[i])\n",
        "    c.append(ca)\n",
        "\n",
        "  cc = (signal.filtfilt(b,a,c))\n",
        "  harmonic_env = []\n",
        "  for i in range(len(cc)):\n",
        "    a = math.exp(cc[i])\n",
        "    harmonic_env.append(a)\n",
        "\n",
        "  x =np.mean(harmonic_env)\n",
        "  y=[]\n",
        "  for i in range(len(harmonic_env)):\n",
        "    y.append((harmonic_env[i]-x))\n",
        "\n",
        "  p = np.correlate(y,y,mode='full')\n",
        "  signal_auto_corr = p[len(harmonic_env)+1:]\n",
        "\n",
        "  min_index = round(0.5*f_rate)\n",
        "  max_index = round(2*f_rate)\n",
        "  n = (signal_auto_corr[min_index:max_index])\n",
        "  p = np.max(n)\n",
        "  index = get_index(n,p)\n",
        "  true_index = index+min_index-1\n",
        "  heartRate = 60/(true_index/f_rate)\n",
        "\n",
        "  max_sys_duration = round(((60/heartRate)*f_rate)/2);\n",
        "  min_sys_duration = round(0.2*f_rate)\n",
        "  a = signal_auto_corr[min_sys_duration:max_sys_duration]\n",
        "  pa =np.max(a)\n",
        "  indexx = get_index(a,pa)\n",
        "  systolicTimeInterval = (min_sys_duration+indexx)/f_rate\n",
        "  heart_cyc_du = (60/heartRate)\n",
        "  dia_interval = heart_cyc_du - systolicTimeInterval\n",
        "\n",
        "  return heartRate, systolicTimeInterval, heart_cyc_du, dia_interval"
      ],
      "execution_count": null,
      "outputs": []
    },
    {
      "cell_type": "code",
      "metadata": {
        "id": "yWGZW00JS08K"
      },
      "source": [
        "#TO get heart rate and systolic interval\n",
        "from scipy.io import wavfile\n",
        "X = []\n",
        "Sig_type = []\n",
        "heart_rate = []\n",
        "sys_interval = []\n",
        "dia_interval = []\n",
        "heart_cyc_du = []\n",
        "sys_to_dia = []\n",
        "sys_to_cyc = []\n",
        "dia_to_cyc = []\n",
        "\n",
        "# iterate through all file\n",
        "for file in os.listdir():\n",
        "    # Check whether file is in text format or not\n",
        "    if file.endswith(\".hea\"):\n",
        "        file_path = f'{path}{file}'\n",
        "        x=read_hea_file(file_path)\n",
        "        Sig_type.append(x)\n",
        "        file_path = f\"{path}{file[:-3]}{'wav'}\"\n",
        "        # call read text file function\n",
        "        Signal = read_wav_file(file_path)\n",
        "        X.append(file)\n",
        "        # reads all the frames \n",
        "        # -1 indicates all or max frames\n",
        "        sig = Signal.readframes(-1)\n",
        "        sig = np.frombuffer(sig, dtype =\"int16\")\n",
        "        \n",
        "         \n",
        "        # gets the frame rate\n",
        "        f_rate = Signal.getframerate()\n",
        "        sample_rate, audio = wavfile.read(file_path)\n",
        "        t = len(audio) / sample_rate\n",
        "\n",
        "        time = np.linspace(\n",
        "        0, # start\n",
        "        len(sig) / f_rate,\n",
        "        num = len(sig)\n",
        "        )        \n",
        "\n",
        "        ##Removing high frequency noise\n",
        "        h_noise = signal.butter(10,600, 'lowpass', fs=2000 ,output = 'sos')\n",
        "        pure_h=signal.sosfilt(h_noise, sig)\n",
        "        ##Removing very low frequency noise\n",
        "        l_noise = signal.butter(10,10, 'highpass', fs=2000 ,output = 'sos')\n",
        "        pure=signal.sosfilt(l_noise, pure_h)\n",
        "        if((file == 'a0305.hea') or (file == 'a0045.hea') or (file == 'a0304.hea') or (file == 'a0184.hea')):\n",
        "          b,c,d,e = get_hsysrate(pure,f_rate)\n",
        "        else:\n",
        "          denoised = spike_removal(pure,f_rate)\n",
        "\n",
        "          b,c,d,e = get_hsysrate(denoised,f_rate) \n",
        "        heart_rate.append(b)\n",
        "        sys_interval.append(c)\n",
        "        heart_cyc_du.append(d)\n",
        "        dia_interval.append(e)\n",
        "        sys_to_dia.append((c/e))\n",
        "        sys_to_cyc.append((c/d))\n",
        "        dia_to_cyc.append((e/d))\n",
        "        \n",
        "\n",
        "\n",
        "#Creation of Dataframe\n",
        "df_val = pd.DataFrame({'Sample_name': X,\n",
        "                        'Type' : Sig_type,'Heart rate' : heart_rate,\n",
        "                       'Systolic interval' : sys_interval,\n",
        "                       'Diastolic interval' : dia_interval,\n",
        "                       'Heart cycle duration' : heart_cyc_du,\n",
        "                       'Ratio of sys to dia' : sys_to_dia,\n",
        "                       'Ratio of sys to cycle' : sys_to_cyc,\n",
        "                       'Ratio of dia to cycle': dia_to_cyc})\n",
        "writer = ExcelWriter('Heart_rate.xlsx')\n",
        "df_val.to_excel(writer,'Sheet1',index=True)\n",
        "writer.save()"
      ],
      "execution_count": null,
      "outputs": []
    },
    {
      "cell_type": "markdown",
      "metadata": {
        "id": "JOnHUXrybQjC"
      },
      "source": [
        "#**S1 Peak detection Algorithm**"
      ]
    },
    {
      "cell_type": "code",
      "metadata": {
        "id": "ELQQaalsbYo8"
      },
      "source": [
        "''' Derivate of an input signal as y[n]= x[n+1]- x[n-1] \n",
        "'''\n",
        "def derivate (x):\n",
        "\tlenght=np.shape(x)\t\t\t\t# Get the length of the vector\t\t\n",
        "\tlenght=lenght[0];\t\t\t\t# Get the value of the length\n",
        "\ty=np.zeros(lenght);\t\t\t\t# Initializate derivate vector\n",
        "\tfor i in range(lenght-1):\n",
        "\t\t\ty[i]=x[i+1]-x[i];\t\t\n",
        "\treturn y"
      ],
      "execution_count": null,
      "outputs": []
    },
    {
      "cell_type": "code",
      "metadata": {
        "id": "6jH-uNGMcPu_"
      },
      "source": [
        "\n",
        "'''To normalized any vector\\0-dimentional array in [-1,1] range, by divided the \n",
        "   vector by the maximun value of itself, substracting the mean value to the vector\n",
        "   & dividing each value of the vector by the maximun value of itself \n",
        "'''\n",
        "def vec_nor(x):\n",
        "\tlenght=np.shape(x)\t\t\t\t# Get the length of the vector\t\t\n",
        "\tlenght=lenght[0];\t\t\t\t# Get the value of the length\n",
        "\txMax=max(x);\t\t\t\t\t# Get the maximun value of the vector\n",
        "\tnVec=np.zeros(lenght);\t\t\t        # Initializate derivate vector\n",
        "\tfor n in range(lenght):\n",
        "\t\tnVec[n]=x[n]/xMax;\t\t\t\n",
        "\tnVec=nVec-np.mean(nVec);\n",
        "\tnVec=np.divide(nVec,np.max(nVec));\n",
        "\treturn nVec"
      ],
      "execution_count": null,
      "outputs": []
    },
    {
      "cell_type": "code",
      "metadata": {
        "id": "YF3rtvkQcV7_"
      },
      "source": [
        "'''\n",
        "  FpassBand is the function that develop a pass band filter of the signal 'x' through the\n",
        "  discrete convolution of this 'x' first with the coeficients of a High Pass Filter 'hp' and then\n",
        "  with the discrete convolution of this result with a Low Pass Filter 'lp'\n",
        "'''\n",
        "def FpassBand(X,hp,lp):\n",
        "        llp=np.shape(lp)\t  \t        # Get the length of the lowpass vector\t\t\n",
        "        llp=llp[0];\t\t\t\t# Get the value of the length\n",
        "        lhp=np.shape(hp)\t\t\t# Get the length of the highpass vector\t\t\n",
        "        lhp=lhp[0];\t\t\t\t# Get the value of the length\t\n",
        "\n",
        "        x=np.convolve(X,lp);\t\t        # Disrete convolution \n",
        "        x=x[(llp//2):-1-(llp//2)];\n",
        "        x=x-(np.mean(x));\n",
        "        x=x/np.max(x);\n",
        "\t\n",
        "        y=np.convolve(x,hp);\t\t\t# Disrete onvolution\n",
        "        y=y[(lhp//2):-1-(lhp//2)];\n",
        "        y=y-np.mean(y);\n",
        "        y=y/np.max(y);\n",
        "\n",
        "        x=np.convolve(y,lp);\t\t        # Disrete convolution \n",
        "        x=x[(llp//2):-1-(llp//2)];\n",
        "        x=x-(np.mean(x));\n",
        "        x=x/np.max(x);\n",
        "\t\n",
        "        y=np.convolve(x,hp);\t\t\t# Disrete onvolution\n",
        "        y=y[(lhp//2):-1-(lhp//2)];\n",
        "        y=y-np.mean(y);\n",
        "        y=y/np.max(y);\n",
        "        \n",
        "        y=vec_nor(y);\t\t\t\t# Vector Normalizing\n",
        "        \n",
        "        return y"
      ],
      "execution_count": null,
      "outputs": []
    },
    {
      "cell_type": "code",
      "metadata": {
        "id": "c7YyuwMed8CD"
      },
      "source": [
        "\n",
        "Xf=denoised; \t                # Apply a passband filter\n",
        "Xf=vec_nor(Xf);\t\t\t                # Vector Normalizing\n",
        "\n",
        "  # Derivate of the Signal\n",
        "dX=derivate(Xf);\t\t\t\t# Derivate of the signal\n",
        "dX=vec_nor(dX);\t\t\t\t\t# Vector Normalizing\n",
        "\n",
        "  # Square of the signal\n",
        "dy=np.square(Xf);\n",
        "dy=vec_nor(dy);\n",
        "\n",
        "  # Peak Detection Process\n",
        "\n",
        "size=np.shape(Xf)\t\t\t\t# Rank or dimension of the array\n",
        "fil=size[0];\t\t\t\t\t# Number of rows\n",
        "\n",
        "positive=np.zeros((1,fil+1));                   # Initializating Positives Values Vector \n",
        "positive=positive[0];                           # Getting the Vector\n",
        "\n",
        "points=np.zeros((1,fil));                       # Initializating the all Peak Points Vector\n",
        "points=points[0];                               # Getting the point vector\n",
        "\n",
        "peaks=np.zeros((1,fil));                        # Initializating the s1-s1 Peak Vector\n",
        "peaks=peaks[0];                                 # Getting the point vector\n",
        "'''\n",
        "  FIRST! having the positives values of the slope as 1\n",
        "  And the negative values of the slope as 0\n",
        "'''\n",
        "for i in range(0,fil):\n",
        "        if dX[i]>0:\n",
        "                positive[i]=1;\n",
        "        else:\n",
        "                positive[i]=0;\n",
        "\n",
        "'''\n",
        "  SECOND! a peak will be found when the ith value is equal to 1 &&\n",
        "  the ith+1 is equal to 0\n",
        "'''\n",
        "for i in range(0,fil):\n",
        "        if (positive[i]==1 and positive[i+1]==0):\n",
        "                points[i]=Xf[i];\n",
        "        else:\n",
        "                points[i]=0;\n",
        "\n",
        "'''\n",
        "  THIRD! Height & Distance Threshold using peakutils function\n",
        "  Reference: https://pypi.python.org/pypi/PeakUtils/1.0.0\n",
        "'''\n",
        "\n",
        "indexes=peakutils.indexes(points,thres=0.05/max(points), min_dist=2000);\n",
        "lenght=np.shape(indexes)\t\t\t# Get the length of the index vector\t\t\n",
        "lenght=lenght[0];\t\t\t\t# Get the value of the index vector\n",
        "\n",
        "for i in range(0,lenght):\n",
        "        p=indexes[i];\n",
        "        peaks[p]=points[p];\n",
        "        \n",
        "n=np.arange(0,fil); \n",
        "\n",
        "s1_peaks =[]\n",
        "for i in range(len(indexes)):\n",
        "    m = indexes[i]\n",
        "    p = pure[m]\n",
        "    s1_peaks.append(p)\n",
        "  \n",
        "m = (min(s1_peaks))\n",
        "mn = (np.mean(s1_peaks))\n",
        "mm = max(s1_peaks)\n",
        "\n",
        "s1_s1_interval = []\n",
        "for i in range(len(indexes)-1):\n",
        "    val = ((indexes[i+1]-indexes[i])/f_rate)\n",
        "    s1_s1_interval.append(val)\n",
        "s1 = (np.mean(s1_s1_interval))\n",
        "\n",
        "  "
      ],
      "execution_count": null,
      "outputs": []
    },
    {
      "cell_type": "code",
      "metadata": {
        "id": "OXu834LXcW3g"
      },
      "source": [
        "#TO get heart rate and systolic interval\n",
        "from scipy.io import wavfile\n",
        "X = []\n",
        "Sig_type = []\n",
        "S1_S1_inerval_avg = []\n",
        "avg_S1_peak = []\n",
        "max_S1_peak = []\n",
        "min_S1_peak = []\n",
        "max_min_r = []\n",
        "max_avg_r = []\n",
        "min_avg_r = []\n",
        "\n",
        "# iterate through all file\n",
        "for file in os.listdir():\n",
        "    # Check whether file is in text format or not\n",
        "    if file.endswith(\".hea\"):\n",
        "        file_path = f'{path}{file}'\n",
        "        x=read_hea_file(file_path)\n",
        "        Sig_type.append(x)\n",
        "        file_path = f\"{path}{file[:-3]}{'wav'}\"\n",
        "        # call read text file function\n",
        "        Signal = read_wav_file(file_path)\n",
        "        X.append(file)\n",
        "        # reads all the frames \n",
        "        # -1 indicates all or max frames\n",
        "        sig = Signal.readframes(-1)\n",
        "        sig = np.frombuffer(sig, dtype =\"int16\")\n",
        "        \n",
        "         \n",
        "        # gets the frame rate\n",
        "        f_rate = Signal.getframerate()\n",
        "        sample_rate, audio = wavfile.read(file_path)\n",
        "        t = len(audio) / sample_rate\n",
        "\n",
        "        time = np.linspace(\n",
        "        0, # start\n",
        "        len(sig) / f_rate,\n",
        "        num = len(sig)\n",
        "        )        \n",
        "\n",
        "        ##Removing high frequency noise\n",
        "        h_noise = signal.butter(10,600, 'lowpass', fs=2000 ,output = 'sos')\n",
        "        pure_h=signal.sosfilt(h_noise, sig)\n",
        "        ##Removing very low frequency noise\n",
        "        l_noise = signal.butter(10,10, 'highpass', fs=2000 ,output = 'sos')\n",
        "        pure=signal.sosfilt(l_noise, pure_h)\n",
        "        if((file == 'a0305.hea') or (file == 'a0045.hea') or (file == 'a0304.hea') or (file == 'a0184.hea')):\n",
        "          a,b,c,d = getS1_peaks(pure)\n",
        "        else:\n",
        "          denoised = spike_removal(pure,f_rate)\n",
        "          a,b,c,d = getS1_peaks(denoised)\n",
        "        S1_S1_inerval_avg.append(a)\n",
        "        avg_S1_peak.append(b)\n",
        "        min_S1_peak.append(c)\n",
        "        max_S1_peak.append(d)\n",
        "        max_min_r.append((d/c))\n",
        "        max_avg_r.append((d/b))\n",
        "        min_avg_r.append((c/b))\n",
        "        \n",
        "\n",
        "\n",
        "#Creation of Dataframe\n",
        "df_val = pd.DataFrame({'Sample_name': X,\n",
        "                        'Type' : Sig_type,\n",
        "                       'Average S1_S1 interval' : S1_S1_inerval_avg,\n",
        "                       'Min S1 peak value' : min_S1_peak,\n",
        "                       'Maximum S1 peak value' : max_S1_peak,\n",
        "                       'Average S1 peak value' : avg_S1_peak,\n",
        "                       'Max to min' : max_min_r,\n",
        "                       'Max to avg' : max_avg_r,\n",
        "                       'min to avg' : min_avg_r})\n",
        "writer = ExcelWriter('S1_S1.xlsx')\n",
        "df_val.to_excel(writer,'Sheet1',index=True)\n",
        "writer.save()"
      ],
      "execution_count": null,
      "outputs": []
    },
    {
      "cell_type": "markdown",
      "metadata": {
        "id": "IhqdIyTPorJH"
      },
      "source": [
        "#Basic features"
      ]
    },
    {
      "cell_type": "code",
      "metadata": {
        "id": "u-MByYzqt3jz"
      },
      "source": [
        "def getfeat(X):\n",
        "  fft_val = fft(X)\n",
        "  a = np.mean(fft_val)\n",
        "  b = np.mean(abs(fft_val))\n",
        "  x= skew(X)\n",
        "  y = kurtosis(X) \n",
        "  z = entropy(X)\n",
        "  return a,b,x,y,z"
      ],
      "execution_count": null,
      "outputs": []
    },
    {
      "cell_type": "code",
      "metadata": {
        "id": "aVm7Kn_voqPN"
      },
      "source": [
        "#TO get heart rate and systolic interval\n",
        "from scipy.io import wavfile\n",
        "X = []\n",
        "Sig_type = []\n",
        "fft_avg = []\n",
        "fft_abs_mean = []\n",
        "skewness = []\n",
        "kurt = []\n",
        "ent = []\n",
        "\n",
        "# iterate through all file\n",
        "for file in os.listdir():\n",
        "    # Check whether file is in text format or not\n",
        "    if file.endswith(\".hea\"):\n",
        "        file_path = f'{path}{file}'\n",
        "        x=read_hea_file(file_path)\n",
        "        Sig_type.append(x)\n",
        "        file_path = f\"{path}{file[:-3]}{'wav'}\"\n",
        "        # call read text file function\n",
        "        Signal = read_wav_file(file_path)\n",
        "        X.append(file)\n",
        "        # reads all the frames \n",
        "        # -1 indicates all or max frames\n",
        "        sig = Signal.readframes(-1)\n",
        "        sig = np.frombuffer(sig, dtype =\"int16\")\n",
        "        \n",
        "         \n",
        "        # gets the frame rate\n",
        "        f_rate = Signal.getframerate()\n",
        "        sample_rate, audio = wavfile.read(file_path)\n",
        "        t = len(audio) / sample_rate\n",
        "\n",
        "        time = np.linspace(\n",
        "        0, # start\n",
        "        len(sig) / f_rate,\n",
        "        num = len(sig)\n",
        "        )        \n",
        "\n",
        "        ##Removing high frequency noise\n",
        "        h_noise = signal.butter(10,600, 'lowpass', fs=2000 ,output = 'sos')\n",
        "        pure_h=signal.sosfilt(h_noise, sig)\n",
        "        ##Removing very low frequency noise\n",
        "        l_noise = signal.butter(10,10, 'highpass', fs=2000 ,output = 'sos')\n",
        "        pure=signal.sosfilt(l_noise, pure_h)\n",
        "        if((file == 'a0305.hea') or (file == 'a0045.hea') or (file == 'a0304.hea') or (file == 'a0184.hea')):\n",
        "          a,b,c,d,e = getfeat(pure)\n",
        "        else:\n",
        "          denoised = spike_removal(pure,f_rate)\n",
        "          a,b,c,d,e = getfeat(denoised)\n",
        "        fft_avg.append(a)\n",
        "        fft_abs_mean.append(b)\n",
        "        skewness.append(c)\n",
        "        kurt.append(d)\n",
        "        ent.append(e)\n",
        "        \n",
        "\n",
        "\n",
        "#Creation of Dataframe\n",
        "df_val = pd.DataFrame({'Sample_name': X,\n",
        "                        'Type' : Sig_type,\n",
        "                       'Avg fft val' : fft_avg,\n",
        "                       'Avg abs fft' : fft_abs_mean,\n",
        "                       'Skewness' : skewness,\n",
        "                       'Kurtosis' : kurt,\n",
        "                       'Entropy' : ent})\n",
        "\n",
        "writer = ExcelWriter('Basic features.xlsx')\n",
        "df_val.to_excel(writer,'Sheet1',index=True)\n",
        "writer.save()"
      ],
      "execution_count": null,
      "outputs": []
    },
    {
      "cell_type": "markdown",
      "metadata": {
        "id": "DpTlmOGV88yS"
      },
      "source": [
        "#**PSD Analysis**"
      ]
    },
    {
      "cell_type": "code",
      "metadata": {
        "id": "VKWah8659qS_"
      },
      "source": [
        "## to find corresponding frequencies index\n",
        "def f(X, y):\n",
        "  if(y==\"min\"):\n",
        "    m=np.min(X)\n",
        "  else:\n",
        "    m=np.max(X)\n",
        "  for i in range(len(X)):\n",
        "    if(X[i]==m):\n",
        "      v = i\n",
        "      break;\n",
        "  return v"
      ],
      "execution_count": null,
      "outputs": []
    },
    {
      "cell_type": "code",
      "metadata": {
        "id": "pE0T76ckl3Vc"
      },
      "source": [
        "import statistics as s\n",
        "## to find PSD, minmum value and maximum values of PSDs and their corresponidng frequencies\n",
        "def PSD(X):\n",
        "  freqs, psd = signal.welch(X)\n",
        "  mini=np.min(psd)\n",
        "  mini_f = freqs[f(psd,\"min\")]\n",
        "  maxm = max(psd)\n",
        "  maxm_f = freqs[f(psd,\"max\")]\n",
        "  mean = s.mean(psd)\n",
        "  sd = np.std(psd)\n",
        "  return mini,mini_f,maxm,maxm_f,mean,sd"
      ],
      "execution_count": null,
      "outputs": []
    },
    {
      "cell_type": "code",
      "metadata": {
        "id": "y1lLKn52A4fg"
      },
      "source": [
        "from scipy.io import wavfile\n",
        "X = []\n",
        "Sig_type = []\n",
        "mean_PSD_org = []\n",
        "sd_PSD_org = []\n",
        "Max_PSD_org = []\n",
        "Max_PSD_f_org = []\n",
        "Max_PSD_s1= []\n",
        "Max_PSD_f_s1 = []\n",
        "mean_PSD_s1 = []\n",
        "sd_PSD_s1 = []\n",
        "Max_PSD_s2 = []\n",
        "Max_PSD_f_s2 = []\n",
        "mean_PSD_s2 = []\n",
        "sd_PSD_s2 = []\n",
        "Max_PSD_s3 = []\n",
        "Max_PSD_f_s3 = []\n",
        "mean_PSD_s3 = []\n",
        "sd_PSD_s3 = []\n",
        "Max_PSD_s4 = []\n",
        "Max_PSD_f_s4 = []\n",
        "mean_PSD_s4 = []\n",
        "sd_PSD_s4 = []\n",
        "# iterate through all file\n",
        "for file in os.listdir():\n",
        "    # Check whether file is in text format or not\n",
        " if file.endswith(\".hea\"):\n",
        "        file_path = f'{path}{file}'\n",
        "        x=read_hea_file(file_path)\n",
        "        Sig_type.append(x)\n",
        "        file_path = f\"{path}{file[:-3]}{'wav'}\"\n",
        "        # call read text file function\n",
        "        Signal = read_wav_file(file_path)\n",
        "        X.append(file)\n",
        "        # reads all the frames \n",
        "        # -1 indicates all or max frames\n",
        "        sig = Signal.readframes(-1)\n",
        "        sig = np.frombuffer(sig, dtype =\"int16\")\n",
        "        \n",
        "         \n",
        "        # gets the frame rate\n",
        "        f_rate = Signal.getframerate()\n",
        "        sample_rate, audio = wavfile.read(file_path)\n",
        "        t = len(audio) / sample_rate\n",
        "\n",
        "        time = np.linspace(\n",
        "        0, # start\n",
        "        len(sig) / f_rate,\n",
        "        num = len(sig)\n",
        "        )        \n",
        "\n",
        "        ##Removing high frequency noise\n",
        "        h_noise = signal.butter(10,600, 'lowpass', fs=2000 ,output = 'sos')\n",
        "        pure_h=signal.sosfilt(h_noise, sig)\n",
        "        ##Removing very low frequency noise\n",
        "        l_noise = signal.butter(10,10, 'highpass', fs=2000 ,output = 'sos')\n",
        "        pure=signal.sosfilt(l_noise, pure_h)\n",
        "        if((file == 'a0305.hea') or (file == 'a0045.hea') or (file == 'a0304.hea') or (file == 'a0184.hea')):\n",
        "          mini,mini_f,maxm,maxm_f,mean,sd = PSD(pure)\n",
        "        else:\n",
        "          denoised = spike_removal(pure,f_rate)\n",
        "          mini,mini_f,maxm,maxm_f,mean,sd = PSD(denoised)\n",
        "        \n",
        "        Max_PSD_org.append(maxm)\n",
        "        Max_PSD_f_org.append(maxm_f)\n",
        "        mean_PSD_org.append(mean)\n",
        "        sd_PSD_org.append(sd)\n",
        "\n",
        "        ##Filtering for the range of s1\n",
        "        so_1 = signal.butter(1, [30,100], 'bandpass', fs=2000, output='sos')\n",
        "        if((file == 'a0305.hea') or (file == 'a0045.hea') or (file == 'a0304.hea') or (file == 'a0184.hea')):\n",
        "          s1 = signal.sosfilt(so_1,pure)\n",
        "          mini,mini_f,maxm,maxm_f,mean,sd = PSD(s1)\n",
        "        else:\n",
        "          s1 = signal.sosfilt(so_1,denoised)\n",
        "          mini,mini_f,maxm,maxm_f,mean,sd = PSD(s1)\n",
        "\n",
        "        Max_PSD_s1.append(maxm)\n",
        "        Max_PSD_f_s1.append(maxm_f)\n",
        "        mean_PSD_s1.append(mean)\n",
        "        sd_PSD_s1.append(sd)\n",
        "            \n",
        "        ##Filtering for the range of s2\n",
        "        so_2 = signal.butter(2, 100, 'highpass', fs=2000, output='sos')\n",
        "        if((file == 'a0305.hea') or (file == 'a0045.hea') or (file == 'a0304.hea') or (file == 'a0184.hea')):\n",
        "          s2 = signal.sosfilt(so_2,pure)\n",
        "          mini,mini_f,maxm,maxm_f,mean,sd = PSD(s2)\n",
        "        else:\n",
        "          s2 = signal.sosfilt(so_2,denoised)\n",
        "          mini,mini_f,maxm,maxm_f,mean,sd = PSD(s2)\n",
        "      \n",
        "        Max_PSD_s2.append(maxm)\n",
        "        Max_PSD_f_s2.append(maxm_f)\n",
        "        mean_PSD_s2.append(mean)\n",
        "        sd_PSD_s2.append(sd)\n",
        "        \n",
        "        ##Filtering for the range of s3\n",
        "        so_3 = signal.butter(1, [20,25], 'bandpass', fs=2000, output='sos')\n",
        "        if((file == 'a0305.hea') or (file == 'a0045.hea') or (file == 'a0304.hea') or (file == 'a0184.hea')):\n",
        "          s3 = signal.sosfilt(so_3,pure)\n",
        "          mini,mini_f,maxm,maxm_f,mean,sd = PSD(s3)\n",
        "        else:\n",
        "          s3 = signal.sosfilt(so_3,denoised)\n",
        "          mini,mini_f,maxm,maxm_f,mean,sd = PSD(s3)\n",
        "   \n",
        "        Max_PSD_s3.append(maxm)\n",
        "        Max_PSD_f_s3.append(maxm_f)\n",
        "        mean_PSD_s3.append(mean)\n",
        "        sd_PSD_s3.append(sd)\n",
        "          \n",
        "        ##Filtering for the range of s4\n",
        "        so_4 = signal.butter(2, 30, 'low', fs=2000, output='sos')\n",
        "        if((file == 'a0305.hea') or (file == 'a0045.hea') or (file == 'a0304.hea') or (file == 'a0184.hea')):\n",
        "          s4 = signal.sosfilt(so_4,pure)\n",
        "          mini,mini_f,maxm,maxm_f,mean,sd = PSD(s4)\n",
        "        else:\n",
        "          s4 = signal.sosfilt(so_4,denoised)\n",
        "          mini,mini_f,maxm,maxm_f,mean,sd = PSD(s4)\n",
        "       \n",
        "        Max_PSD_s4.append(maxm)\n",
        "        Max_PSD_f_s4.append(maxm_f) \n",
        "        mean_PSD_s4.append(mean)\n",
        "        sd_PSD_s4.append(sd)\n",
        "\n",
        "#Creation of Dataframe\n",
        "df_val = pd.DataFrame({ 'Sample_name': X,\n",
        "                        'Type' : Sig_type,\n",
        "                       \n",
        "                     \n",
        "                       'Max_PSD_org' : Max_PSD_org,\n",
        "                       'Max_PSD_f_org' : Max_PSD_f_org,\n",
        "                       'Mean_PSD_org' : mean_PSD_org,\n",
        "                       'SD_PSD_org' : sd_PSD_org,\n",
        "                       \n",
        "                       'Max_PSD_s1' : Max_PSD_s1,\n",
        "                       'Max_PSD_f_s1' : Max_PSD_f_s1,\n",
        "                       'Mean_PSD_s1' : mean_PSD_s1,\n",
        "                       'SD_PSD_s1' : sd_PSD_s1,\n",
        "                     \n",
        "                       'Max_PSD_s2' : Max_PSD_s2,\n",
        "                       'Max_PSD_f_s2' : Max_PSD_f_s2,\n",
        "                       'Mean_PSD_s2' : mean_PSD_s2,\n",
        "                       'SD_PSD_s2' : sd_PSD_s2,\n",
        "                      \n",
        "                       'Max_PSD_s3' : Max_PSD_s3,\n",
        "                       'Max_PSD_f_s3' : Max_PSD_f_s3,\n",
        "                       'Mean_PSD_s3' : mean_PSD_s3,\n",
        "                       'SD_PSD_s3' : sd_PSD_s3,\n",
        "                    \n",
        "                       'Max_PSD_s4' : Max_PSD_s4,\n",
        "                       'Max_PSD_f_s4' : Max_PSD_f_s4,\n",
        "                       'Mean_PSD_s4' : mean_PSD_s4,\n",
        "                       'SD_PSD_s4' : sd_PSD_s4\n",
        "    \n",
        "})\n",
        "\n",
        "\n",
        "writer = ExcelWriter('PSD_Analysis.xlsx')\n",
        "df_val.to_excel(writer,'Sheet1',index=True)\n",
        "writer.save()"
      ],
      "execution_count": null,
      "outputs": []
    },
    {
      "cell_type": "markdown",
      "metadata": {
        "id": "9ZLXFjs6m6Z0"
      },
      "source": [
        "## MFCC features:"
      ]
    },
    {
      "cell_type": "code",
      "metadata": {
        "id": "Kaoc21iLm-k8"
      },
      "source": [
        "def getmfcc(X,f):\n",
        "  mfcc = librosa.feature.mfcc(y = x, sr = f, n_mfcc = 12)\n",
        "  fea = []\n",
        "  for i in range(len(mfcc)):\n",
        "    a = mfcc[i]\n",
        "    b = np.mean(a)\n",
        "    fea.append(b) \n",
        "  return fea"
      ],
      "execution_count": null,
      "outputs": []
    },
    {
      "cell_type": "markdown",
      "metadata": {
        "id": "Mmu8Ei3pv5Tm"
      },
      "source": [
        "#All in One"
      ]
    },
    {
      "cell_type": "code",
      "metadata": {
        "id": "W_fik5NGwAUK"
      },
      "source": [
        "#TO get heart rate and systolic interval\n",
        "from scipy.io import wavfile\n",
        "X = []\n",
        "Sig_type = []\n",
        "heart_rate = []\n",
        "sys_interval = []\n",
        "dia_interval = []\n",
        "heart_cyc_du = []\n",
        "sys_to_dia = []\n",
        "sys_to_cyc = []\n",
        "dia_to_cyc = []\n",
        "S1_S1_inerval_avg = []\n",
        "avg_S1_peak = []\n",
        "max_S1_peak = []\n",
        "min_S1_peak = []\n",
        "max_min_r = []\n",
        "max_avg_r = []\n",
        "min_avg_r = []\n",
        "fft_avg = []\n",
        "fft_abs_mean = []\n",
        "skewness = []\n",
        "kurt = []\n",
        "mean_PSD_org = []\n",
        "sd_PSD_org = []\n",
        "Max_PSD_org = []\n",
        "Max_PSD_f_org = []\n",
        "Max_PSD_s1= []\n",
        "Max_PSD_f_s1 = []\n",
        "mean_PSD_s1 = []\n",
        "sd_PSD_s1 = []\n",
        "Max_PSD_s2 = []\n",
        "Max_PSD_f_s2 = []\n",
        "mean_PSD_s2 = []\n",
        "sd_PSD_s2 = []\n",
        "Max_PSD_s3 = []\n",
        "Max_PSD_f_s3 = []\n",
        "mean_PSD_s3 = []\n",
        "sd_PSD_s3 = []\n",
        "Max_PSD_s4 = []\n",
        "Max_PSD_f_s4 = []\n",
        "mean_PSD_s4 = []\n",
        "sd_PSD_s4 = []\n",
        "mfcc1 = []\n",
        "mfcc2 = []\n",
        "mfcc3 = []\n",
        "mfcc4 = []\n",
        "mfcc5 = []\n",
        "mfcc6 = []\n",
        "mfcc7 = []\n",
        "mfcc8 = []\n",
        "mfcc9 = []\n",
        "mfcc10 = []\n",
        "mfcc11 = []\n",
        "mfcc12 = []\n",
        "\n",
        "# iterate through all file\n",
        "for file in os.listdir():\n",
        "    # Check whether file is in text format or not\n",
        "    if file.endswith(\".hea\"):\n",
        "        file_path = f'{path}{file}'\n",
        "        x=read_hea_file(file_path)\n",
        "        Sig_type.append(x)\n",
        "        file_path = f\"{path}{file[:-3]}{'wav'}\"\n",
        "        # call read text file function\n",
        "        Signal = read_wav_file(file_path)\n",
        "        X.append(file)\n",
        "        # reads all the frames \n",
        "        # -1 indicates all or max frames\n",
        "        sig = Signal.readframes(-1)\n",
        "        sig = np.frombuffer(sig, dtype =\"int16\")\n",
        "        \n",
        "         \n",
        "        # gets the frame rate\n",
        "        f_rate = Signal.getframerate()\n",
        "        sample_rate, audio = wavfile.read(file_path)\n",
        "        t = len(audio) / sample_rate\n",
        "\n",
        "        time = np.linspace(\n",
        "        0, # start\n",
        "        len(sig) / f_rate,\n",
        "        num = len(sig)\n",
        "        )        \n",
        "\n",
        "        ##Removing high frequency noise\n",
        "        h_noise = signal.butter(10,600, 'lowpass', fs=2000 ,output = 'sos')\n",
        "        pure_h=signal.sosfilt(h_noise, sig)\n",
        "        ##Removing very low frequency noise\n",
        "        l_noise = signal.butter(10,10, 'highpass', fs=2000 ,output = 'sos')\n",
        "        pure=signal.sosfilt(l_noise, pure_h)\n",
        "        if((file == 'a0305.hea') or (file == 'a0045.hea') or (file == 'a0304.hea') or (file == 'a0184.hea')):\n",
        "          b,c,d,e = get_hsysrate(pure,f_rate)\n",
        "        else:\n",
        "          denoised = spike_removal(pure,f_rate)\n",
        "\n",
        "          b,c,d,e = get_hsysrate(denoised,f_rate) \n",
        "        heart_rate.append(b)\n",
        "        sys_interval.append(c)\n",
        "        heart_cyc_du.append(d)\n",
        "        dia_interval.append(e)\n",
        "        sys_to_dia.append((c/e))\n",
        "        sys_to_cyc.append((c/d))\n",
        "        dia_to_cyc.append((e/d))\n",
        "\n",
        "        if((file == 'a0305.hea') or (file == 'a0045.hea') or (file == 'a0304.hea') or (file == 'a0184.hea')):\n",
        "          a,b,c,d = getS1_peaks(pure)\n",
        "        else:\n",
        "          denoised = spike_removal(pure,f_rate)\n",
        "          a,b,c,d = getS1_peaks(denoised)\n",
        "        S1_S1_inerval_avg.append(a)\n",
        "        avg_S1_peak.append(b)\n",
        "        min_S1_peak.append(c)\n",
        "        max_S1_peak.append(d)\n",
        "        max_min_r.append((d/c))\n",
        "        max_avg_r.append((d/b))\n",
        "        min_avg_r.append((c/b))\n",
        "\n",
        "        if((file == 'a0305.hea') or (file == 'a0045.hea') or (file == 'a0304.hea') or (file == 'a0184.hea')):\n",
        "          a,b,c,d,e = getfeat(pure)\n",
        "        else:\n",
        "          denoised = spike_removal(pure,f_rate)\n",
        "          a,b,c,d,e = getfeat(denoised)\n",
        "        fft_avg.append(a)\n",
        "        fft_abs_mean.append(b)\n",
        "        skewness.append(c)\n",
        "        kurt.append(d)\n",
        "        \n",
        "\n",
        "        if((file == 'a0305.hea') or (file == 'a0045.hea') or (file == 'a0304.hea') or (file == 'a0184.hea')):\n",
        "          mini,mini_f,maxm,maxm_f,mean,sd = PSD(pure)\n",
        "        else:\n",
        "          denoised = spike_removal(pure,f_rate)\n",
        "          mini,mini_f,maxm,maxm_f,mean,sd = PSD(denoised)\n",
        "        \n",
        "        Max_PSD_org.append(maxm)\n",
        "        Max_PSD_f_org.append(maxm_f)\n",
        "        mean_PSD_org.append(mean)\n",
        "        sd_PSD_org.append(sd)\n",
        "\n",
        "        ##Filtering for the range of s1\n",
        "        so_1 = signal.butter(1, [30,100], 'bandpass', fs=2000, output='sos')\n",
        "        if((file == 'a0305.hea') or (file == 'a0045.hea') or (file == 'a0304.hea') or (file == 'a0184.hea')):\n",
        "          s1 = signal.sosfilt(so_1,pure)\n",
        "          mini,mini_f,maxm,maxm_f,mean,sd = PSD(s1)\n",
        "        else:\n",
        "          s1 = signal.sosfilt(so_1,denoised)\n",
        "          mini,mini_f,maxm,maxm_f,mean,sd = PSD(s1)\n",
        "\n",
        "        Max_PSD_s1.append(maxm)\n",
        "        Max_PSD_f_s1.append(maxm_f)\n",
        "        mean_PSD_s1.append(mean)\n",
        "        sd_PSD_s1.append(sd)\n",
        "            \n",
        "        ##Filtering for the range of s2\n",
        "        so_2 = signal.butter(2, 100, 'highpass', fs=2000, output='sos')\n",
        "        if((file == 'a0305.hea') or (file == 'a0045.hea') or (file == 'a0304.hea') or (file == 'a0184.hea')):\n",
        "          s2 = signal.sosfilt(so_2,pure)\n",
        "          mini,mini_f,maxm,maxm_f,mean,sd = PSD(s2)\n",
        "        else:\n",
        "          s2 = signal.sosfilt(so_2,denoised)\n",
        "          mini,mini_f,maxm,maxm_f,mean,sd = PSD(s2)\n",
        "      \n",
        "        Max_PSD_s2.append(maxm)\n",
        "        Max_PSD_f_s2.append(maxm_f)\n",
        "        mean_PSD_s2.append(mean)\n",
        "        sd_PSD_s2.append(sd)\n",
        "        \n",
        "        ##Filtering for the range of s3\n",
        "        so_3 = signal.butter(1, [20,25], 'bandpass', fs=2000, output='sos')\n",
        "        if((file == 'a0305.hea') or (file == 'a0045.hea') or (file == 'a0304.hea') or (file == 'a0184.hea')):\n",
        "          s3 = signal.sosfilt(so_3,pure)\n",
        "          mini,mini_f,maxm,maxm_f,mean,sd = PSD(s3)\n",
        "        else:\n",
        "          s3 = signal.sosfilt(so_3,denoised)\n",
        "          mini,mini_f,maxm,maxm_f,mean,sd = PSD(s3)\n",
        "   \n",
        "        Max_PSD_s3.append(maxm)\n",
        "        Max_PSD_f_s3.append(maxm_f)\n",
        "        mean_PSD_s3.append(mean)\n",
        "        sd_PSD_s3.append(sd)\n",
        "          \n",
        "        ##Filtering for the range of s4\n",
        "        so_4 = signal.butter(2, 30, 'low', fs=2000, output='sos')\n",
        "        if((file == 'a0305.hea') or (file == 'a0045.hea') or (file == 'a0304.hea') or (file == 'a0184.hea')):\n",
        "          s4 = signal.sosfilt(so_4,pure)\n",
        "          mini,mini_f,maxm,maxm_f,mean,sd = PSD(s4)\n",
        "        else:\n",
        "          s4 = signal.sosfilt(so_4,denoised)\n",
        "          mini,mini_f,maxm,maxm_f,mean,sd = PSD(s4)\n",
        "       \n",
        "        Max_PSD_s4.append(maxm)\n",
        "        Max_PSD_f_s4.append(maxm_f) \n",
        "        mean_PSD_s4.append(mean)\n",
        "        sd_PSD_s4.append(sd)\n",
        "        \n",
        "       \n",
        "        mfcc = librosa.feature.mfcc(y = pure, sr = f_rate, n_mfcc = 12)\n",
        "        p = []\n",
        "        for i in range(len(mfcc)):\n",
        "           a = mfcc[i]\n",
        "           b = np.mean(a)\n",
        "           p.append(b)\n",
        "        mfcc1.append(p[0])\n",
        "        mfcc2.append(p[1])\n",
        "        mfcc3.append(p[2])\n",
        "        mfcc4.append(p[3])\n",
        "        mfcc5.append(p[4])\n",
        "        mfcc6.append(p[5])\n",
        "        mfcc7.append(p[6])\n",
        "        mfcc8.append(p[7])\n",
        "        mfcc9.append(p[8])\n",
        "        mfcc10.append(p[9])\n",
        "        mfcc11.append(p[10])\n",
        "        mfcc12.append(p[11])\n",
        "\n",
        "\n",
        " \n",
        "        \n",
        "\n",
        "\n",
        "#Creation of Dataframe\n",
        "df_val = pd.DataFrame({'Sample_name': X,\n",
        "                        'Type' : Sig_type,'Heart rate' : heart_rate,\n",
        "                       'Systolic interval' : sys_interval,\n",
        "                       'Diastolic interval' : dia_interval,\n",
        "                       'Heart cycle duration' : heart_cyc_du,\n",
        "                       'Ratio of sys to dia' : sys_to_dia,\n",
        "                       'Ratio of sys to cycle' : sys_to_cyc,\n",
        "                       'Ratio of dia to cycle': dia_to_cyc,\n",
        "                       'Average S1_S1 interval' : S1_S1_inerval_avg,\n",
        "                       'Min S1 peak value' : min_S1_peak,\n",
        "                       'Maximum S1 peak value' : max_S1_peak,\n",
        "                       'Average S1 peak value' : avg_S1_peak,\n",
        "                       'Max to min' : max_min_r,\n",
        "                       'Max to avg' : max_avg_r,\n",
        "                       'min to avg' : min_avg_r,\n",
        "                       'Avg fft val' : fft_avg,\n",
        "                       'Avg abs fft' : fft_abs_mean,\n",
        "                       'Skewness' : skewness,\n",
        "                       'Kurtosis' : kurt,\n",
        "                       'Max_PSD_org' : Max_PSD_org,\n",
        "                       'Max_PSD_f_org' : Max_PSD_f_org,\n",
        "                       'Mean_PSD_org' : mean_PSD_org,\n",
        "                       'SD_PSD_org' : sd_PSD_org,\n",
        "                       \n",
        "                       'Max_PSD_s1' : Max_PSD_s1,\n",
        "                       'Max_PSD_f_s1' : Max_PSD_f_s1,\n",
        "                       'Mean_PSD_s1' : mean_PSD_s1,\n",
        "                       'SD_PSD_s1' : sd_PSD_s1,\n",
        "                     \n",
        "                       'Max_PSD_s2' : Max_PSD_s2,\n",
        "                       'Max_PSD_f_s2' : Max_PSD_f_s2,\n",
        "                       'Mean_PSD_s2' : mean_PSD_s2,\n",
        "                       'SD_PSD_s2' : sd_PSD_s2,\n",
        "                      \n",
        "                       'Max_PSD_s3' : Max_PSD_s3,\n",
        "                       'Max_PSD_f_s3' : Max_PSD_f_s3,\n",
        "                       'Mean_PSD_s3' : mean_PSD_s3,\n",
        "                       'SD_PSD_s3' : sd_PSD_s3,\n",
        "                    \n",
        "                       'Max_PSD_s4' : Max_PSD_s4,\n",
        "                       'Max_PSD_f_s4' : Max_PSD_f_s4,\n",
        "                       'Mean_PSD_s4' : mean_PSD_s4,\n",
        "                       'SD_PSD_s4' : sd_PSD_s4,\n",
        "                       'MFCC1_org' : mfcc1,\n",
        "                       'MFCC2_org' : mfcc2,\n",
        "                       'MFCC3_org' : mfcc3,\n",
        "                       'MFCC4_org' : mfcc4,\n",
        "                       'MFCC5_org' : mfcc5,\n",
        "                       'MFCC6_org' : mfcc6,\n",
        "                       'MFCC7_org' : mfcc7,\n",
        "                       'MFCC8_org' : mfcc8,\n",
        "                       'MFCC9_org' : mfcc9,\n",
        "                       'MFCC10_org' : mfcc10,\n",
        "                       'MFCC11_org' : mfcc11,\n",
        "                       'MFCC12_org' : mfcc12\n",
        "                       })\n",
        "writer = ExcelWriter('DATASET.xlsx')\n",
        "df_val.to_excel(writer,'Sheet1',index=True)\n",
        "writer.save()"
      ],
      "execution_count": null,
      "outputs": []
    },
    {
      "cell_type": "markdown",
      "metadata": {
        "id": "w2SIQmlOUuRn"
      },
      "source": [
        "#Graphs:"
      ]
    },
    {
      "cell_type": "code",
      "metadata": {
        "id": "WhsPEHRkVaIM"
      },
      "source": [
        "Signal = wave.open('/content/drive/MyDrive/training-a/a0345.wav')\n",
        "sig = Signal.readframes(-1) \n",
        "sig = np.frombuffer(sig, dtype =\"int16\")\n",
        "\n",
        "         \n",
        "# gets the frame rate\n",
        "f_rate = Signal.getframerate()\n",
        "    \n",
        "      \n",
        "time = np.linspace(\n",
        "        0, # start\n",
        "        len(sig) / f_rate,\n",
        "        num = len(sig)\n",
        "        )       \n",
        "t = len(sig) / f_rate       \n",
        "\n",
        "        ##Removing high frequency noise        \n",
        "h_noise = signal.butter(10,600, 'lowpass', fs=2000 ,output = 'sos')\n",
        "pure_h=signal.sosfilt(h_noise, sig)\n",
        "        ##Removing very low frequency noise        \n",
        "l_noise = signal.butter(10,10, 'highpass', fs=2000 ,output = 'sos')        \n",
        "pure=signal.sosfilt(l_noise, pure_h)"
      ],
      "execution_count": null,
      "outputs": []
    },
    {
      "cell_type": "code",
      "metadata": {
        "colab": {
          "base_uri": "https://localhost:8080/"
        },
        "id": "O5MpQIU1Jbp4",
        "outputId": "3accde4e-2f7d-470e-ce1c-6565bcba129f"
      },
      "source": [
        "from google.colab import drive\n",
        "drive.mount('/content/drive')"
      ],
      "execution_count": null,
      "outputs": [
        {
          "output_type": "stream",
          "name": "stdout",
          "text": [
            "Drive already mounted at /content/drive; to attempt to forcibly remount, call drive.mount(\"/content/drive\", force_remount=True).\n"
          ]
        }
      ]
    },
    {
      "cell_type": "code",
      "metadata": {
        "colab": {
          "base_uri": "https://localhost:8080/",
          "height": 312
        },
        "id": "YYXiQBX_VchW",
        "outputId": "0e224ef1-48c6-4b50-ef20-0428bc0b901f"
      },
      "source": [
        "plt.plot(time[0:1000],sig[0:1000])\n",
        "plt.title('Original Signal')\n",
        "plt.xlabel('Time (s)')\n",
        "plt.ylabel('Amplitude')"
      ],
      "execution_count": null,
      "outputs": [
        {
          "output_type": "execute_result",
          "data": {
            "text/plain": [
              "Text(0, 0.5, 'Amplitude')"
            ]
          },
          "metadata": {},
          "execution_count": 61
        },
        {
          "output_type": "display_data",
          "data": {
            "image/png": "[encoded data removed]",
            "text/plain": [
              "<Figure size 432x288 with 1 Axes>"
            ]
          },
          "metadata": {
            "needs_background": "light"
          }
        }
      ]
    },
    {
      "cell_type": "code",
      "metadata": {
        "colab": {
          "base_uri": "https://localhost:8080/",
          "height": 282
        },
        "id": "j1QzSN2AVgMN",
        "outputId": "5e75aa58-fbae-4d86-f020-e297a65c8c5e"
      },
      "source": [
        "plt.plot(pure[1000:2000])"
      ],
      "execution_count": null,
      "outputs": [
        {
          "output_type": "execute_result",
          "data": {
            "text/plain": [
              "[<matplotlib.lines.Line2D at 0x7f076d7f8910>]"
            ]
          },
          "metadata": {},
          "execution_count": 31
        },
        {
          "output_type": "display_data",
          "data": {
            "image/png": "[encoded data removed]",
            "text/plain": [
              "<Figure size 432x288 with 1 Axes>"
            ]
          },
          "metadata": {
            "needs_background": "light"
          }
        }
      ]
    },
    {
      "cell_type": "code",
      "metadata": {
        "id": "Coilza5uVudI"
      },
      "source": [
        "denoised = spike_removal(pure,f_rate)"
      ],
      "execution_count": null,
      "outputs": []
    },
    {
      "cell_type": "code",
      "metadata": {
        "colab": {
          "base_uri": "https://localhost:8080/",
          "height": 312
        },
        "id": "zVprs9i0V4Fi",
        "outputId": "ed970927-569a-4235-c688-f8c6534a3612"
      },
      "source": [
        "plt.plot(time[0:1000],denoised[0:1000])\n",
        "plt.title('Denoised Pure Signal')\n",
        "plt.xlabel('Time (s)')\n",
        "plt.ylabel('Amplitude')"
      ],
      "execution_count": null,
      "outputs": [
        {
          "output_type": "execute_result",
          "data": {
            "text/plain": [
              "Text(0, 0.5, 'Amplitude')"
            ]
          },
          "metadata": {},
          "execution_count": 62
        },
        {
          "output_type": "display_data",
          "data": {
            "image/png": "[encoded data removed]",
            "text/plain": [
              "<Figure size 432x288 with 1 Axes>"
            ]
          },
          "metadata": {
            "needs_background": "light"
          }
        }
      ]
    },
    {
      "cell_type": "code",
      "metadata": {
        "id": "-YYXn2lVNiPL"
      },
      "source": [
        "a,b,c,d = getS1_peaks(denoised)"
      ],
      "execution_count": null,
      "outputs": []
    },
    {
      "cell_type": "code",
      "metadata": {
        "colab": {
          "base_uri": "https://localhost:8080/",
          "height": 298
        },
        "id": "-m4fXTBRcCXR",
        "outputId": "6eec97b3-5dc5-49ef-e0da-993bd500bc4c"
      },
      "source": [
        "plt.figure(1)\n",
        "plt.plot(n[100:10000],Xf[100:10000],'k',n[100:10000],peaks[100:10000],'bo')\n",
        "plt.ylabel('Normalized Amplitude',fontsize=12)\n",
        "plt.xlabel('Number of Samples',fontsize=12)\n",
        "plt.title('Phonocardiogram Signal s1-s1 Peak Detection')\n",
        "plt.grid(True)\n",
        "plt.show()"
      ],
      "execution_count": null,
      "outputs": [
        {
          "output_type": "display_data",
          "data": {
            "image/png": "[encoded data removed]",
            "text/plain": [
              "<Figure size 432x288 with 1 Axes>"
            ]
          },
          "metadata": {
            "needs_background": "light"
          }
        }
      ]
    },
    {
      "cell_type": "code",
      "metadata": {
        "colab": {
          "base_uri": "https://localhost:8080/",
          "height": 588
        },
        "id": "uBZ_t8VWdDZx",
        "outputId": "d3b5fce0-6071-47f3-f799-034e8b538c5e"
      },
      "source": [
        "fft_val = fft(denoised)\n",
        "plt.plot(abs(fft_val))\n",
        "plt.title('FFT of the signal')\n",
        "plt.xlabel('Frequency (Hz)')\n",
        "plt.ylabel('Amplitude')\n"
      ],
      "execution_count": null,
      "outputs": [
        {
          "output_type": "execute_result",
          "data": {
            "text/plain": [
              "[<matplotlib.lines.Line2D at 0x7f3aa8125290>]"
            ]
          },
          "metadata": {
            "tags": []
          },
          "execution_count": 47
        },
        {
          "output_type": "display_data",
          "data": {
            "image/png": "[encoded data removed]",
            "text/plain": [
              "<Figure size 432x288 with 1 Axes>"
            ]
          },
          "metadata": {
            "tags": [],
            "needs_background": "light"
          }
        },
        {
          "output_type": "execute_result",
          "data": {
            "text/plain": [
              "Text(0, 0.5, 'Amplitude')"
            ]
          },
          "metadata": {
            "tags": []
          },
          "execution_count": 48
        },
        {
          "output_type": "display_data",
          "data": {
            "image/png": "[encoded data removed]",
            "text/plain": [
              "<Figure size 432x288 with 1 Axes>"
            ]
          },
          "metadata": {
            "tags": [],
            "needs_background": "light"
          }
        }
      ]
    },
    {
      "cell_type": "code",
      "metadata": {
        "colab": {
          "base_uri": "https://localhost:8080/",
          "height": 312
        },
        "id": "WRklSaPonD_z",
        "outputId": "6cbb07b2-7ed9-42f3-af99-dcdc8007da3c"
      },
      "source": [
        "freqs, psd = signal.welch(denoised)\n",
        "plt.plot(freqs, psd)\n",
        "plt.title('PSD of original Signal')\n",
        "plt.xlabel('Frequency [Hz]')\n",
        "plt.ylabel('Power')"
      ],
      "execution_count": null,
      "outputs": [
        {
          "output_type": "execute_result",
          "data": {
            "text/plain": [
              "Text(0, 0.5, 'Power')"
            ]
          },
          "metadata": {
            "tags": []
          },
          "execution_count": 50
        },
        {
          "output_type": "display_data",
          "data": {
            "image/png": "[encoded data removed]",
            "text/plain": [
              "<Figure size 432x288 with 1 Axes>"
            ]
          },
          "metadata": {
            "tags": [],
            "needs_background": "light"
          }
        }
      ]
    }
  ]
}